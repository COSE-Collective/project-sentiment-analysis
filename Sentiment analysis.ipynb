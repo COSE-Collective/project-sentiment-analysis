{
 "cells": [
  {
   "cell_type": "code",
   "execution_count": 7,
   "id": "7df85969",
   "metadata": {},
   "outputs": [],
   "source": [
    "import numpy as np\n",
    "import pandas as pd\n",
    "import emoji\n",
    "from emoji import EMOJI_DATA\n",
    "from nltk.corpus import stopwords\n",
    "from nltk.tokenize import word_tokenize\n",
    "from pywsd.utils import lemmatize_sentence\n",
    "import string\n",
    "import re"
   ]
  },
  {
   "cell_type": "code",
   "execution_count": 8,
   "id": "af610e73",
   "metadata": {},
   "outputs": [],
   "source": [
    "train_data=pd.read_csv('datasets/twitter_training.csv',header=None)\n",
    "validation_data=pd.read_csv('datasets/twitter_validation.csv',header=None)\n"
   ]
  },
  {
   "cell_type": "code",
   "execution_count": 9,
   "id": "434b653b",
   "metadata": {},
   "outputs": [
    {
     "data": {
      "text/html": [
       "<div>\n",
       "<style scoped>\n",
       "    .dataframe tbody tr th:only-of-type {\n",
       "        vertical-align: middle;\n",
       "    }\n",
       "\n",
       "    .dataframe tbody tr th {\n",
       "        vertical-align: top;\n",
       "    }\n",
       "\n",
       "    .dataframe thead th {\n",
       "        text-align: right;\n",
       "    }\n",
       "</style>\n",
       "<table border=\"1\" class=\"dataframe\">\n",
       "  <thead>\n",
       "    <tr style=\"text-align: right;\">\n",
       "      <th></th>\n",
       "      <th>0</th>\n",
       "      <th>1</th>\n",
       "      <th>2</th>\n",
       "      <th>3</th>\n",
       "    </tr>\n",
       "  </thead>\n",
       "  <tbody>\n",
       "    <tr>\n",
       "      <th>0</th>\n",
       "      <td>2401</td>\n",
       "      <td>Borderlands</td>\n",
       "      <td>Positive</td>\n",
       "      <td>im getting on borderlands and i will murder yo...</td>\n",
       "    </tr>\n",
       "    <tr>\n",
       "      <th>1</th>\n",
       "      <td>2401</td>\n",
       "      <td>Borderlands</td>\n",
       "      <td>Positive</td>\n",
       "      <td>I am coming to the borders and I will kill you...</td>\n",
       "    </tr>\n",
       "    <tr>\n",
       "      <th>2</th>\n",
       "      <td>2401</td>\n",
       "      <td>Borderlands</td>\n",
       "      <td>Positive</td>\n",
       "      <td>im getting on borderlands and i will kill you ...</td>\n",
       "    </tr>\n",
       "    <tr>\n",
       "      <th>3</th>\n",
       "      <td>2401</td>\n",
       "      <td>Borderlands</td>\n",
       "      <td>Positive</td>\n",
       "      <td>im coming on borderlands and i will murder you...</td>\n",
       "    </tr>\n",
       "    <tr>\n",
       "      <th>4</th>\n",
       "      <td>2401</td>\n",
       "      <td>Borderlands</td>\n",
       "      <td>Positive</td>\n",
       "      <td>im getting on borderlands 2 and i will murder ...</td>\n",
       "    </tr>\n",
       "    <tr>\n",
       "      <th>...</th>\n",
       "      <td>...</td>\n",
       "      <td>...</td>\n",
       "      <td>...</td>\n",
       "      <td>...</td>\n",
       "    </tr>\n",
       "    <tr>\n",
       "      <th>74677</th>\n",
       "      <td>9200</td>\n",
       "      <td>Nvidia</td>\n",
       "      <td>Positive</td>\n",
       "      <td>Just realized that the Windows partition of my...</td>\n",
       "    </tr>\n",
       "    <tr>\n",
       "      <th>74678</th>\n",
       "      <td>9200</td>\n",
       "      <td>Nvidia</td>\n",
       "      <td>Positive</td>\n",
       "      <td>Just realized that my Mac window partition is ...</td>\n",
       "    </tr>\n",
       "    <tr>\n",
       "      <th>74679</th>\n",
       "      <td>9200</td>\n",
       "      <td>Nvidia</td>\n",
       "      <td>Positive</td>\n",
       "      <td>Just realized the windows partition of my Mac ...</td>\n",
       "    </tr>\n",
       "    <tr>\n",
       "      <th>74680</th>\n",
       "      <td>9200</td>\n",
       "      <td>Nvidia</td>\n",
       "      <td>Positive</td>\n",
       "      <td>Just realized between the windows partition of...</td>\n",
       "    </tr>\n",
       "    <tr>\n",
       "      <th>74681</th>\n",
       "      <td>9200</td>\n",
       "      <td>Nvidia</td>\n",
       "      <td>Positive</td>\n",
       "      <td>Just like the windows partition of my Mac is l...</td>\n",
       "    </tr>\n",
       "  </tbody>\n",
       "</table>\n",
       "<p>74682 rows × 4 columns</p>\n",
       "</div>"
      ],
      "text/plain": [
       "          0            1         2  \\\n",
       "0      2401  Borderlands  Positive   \n",
       "1      2401  Borderlands  Positive   \n",
       "2      2401  Borderlands  Positive   \n",
       "3      2401  Borderlands  Positive   \n",
       "4      2401  Borderlands  Positive   \n",
       "...     ...          ...       ...   \n",
       "74677  9200       Nvidia  Positive   \n",
       "74678  9200       Nvidia  Positive   \n",
       "74679  9200       Nvidia  Positive   \n",
       "74680  9200       Nvidia  Positive   \n",
       "74681  9200       Nvidia  Positive   \n",
       "\n",
       "                                                       3  \n",
       "0      im getting on borderlands and i will murder yo...  \n",
       "1      I am coming to the borders and I will kill you...  \n",
       "2      im getting on borderlands and i will kill you ...  \n",
       "3      im coming on borderlands and i will murder you...  \n",
       "4      im getting on borderlands 2 and i will murder ...  \n",
       "...                                                  ...  \n",
       "74677  Just realized that the Windows partition of my...  \n",
       "74678  Just realized that my Mac window partition is ...  \n",
       "74679  Just realized the windows partition of my Mac ...  \n",
       "74680  Just realized between the windows partition of...  \n",
       "74681  Just like the windows partition of my Mac is l...  \n",
       "\n",
       "[74682 rows x 4 columns]"
      ]
     },
     "execution_count": 9,
     "metadata": {},
     "output_type": "execute_result"
    }
   ],
   "source": [
    "train_data"
   ]
  },
  {
   "cell_type": "code",
   "execution_count": 10,
   "id": "3a5a88a9",
   "metadata": {
    "scrolled": true
   },
   "outputs": [
    {
     "data": {
      "text/html": [
       "<div>\n",
       "<style scoped>\n",
       "    .dataframe tbody tr th:only-of-type {\n",
       "        vertical-align: middle;\n",
       "    }\n",
       "\n",
       "    .dataframe tbody tr th {\n",
       "        vertical-align: top;\n",
       "    }\n",
       "\n",
       "    .dataframe thead th {\n",
       "        text-align: right;\n",
       "    }\n",
       "</style>\n",
       "<table border=\"1\" class=\"dataframe\">\n",
       "  <thead>\n",
       "    <tr style=\"text-align: right;\">\n",
       "      <th></th>\n",
       "      <th>0</th>\n",
       "      <th>1</th>\n",
       "      <th>2</th>\n",
       "      <th>3</th>\n",
       "    </tr>\n",
       "  </thead>\n",
       "  <tbody>\n",
       "    <tr>\n",
       "      <th>0</th>\n",
       "      <td>3364</td>\n",
       "      <td>Facebook</td>\n",
       "      <td>Irrelevant</td>\n",
       "      <td>I mentioned on Facebook that I was struggling ...</td>\n",
       "    </tr>\n",
       "    <tr>\n",
       "      <th>1</th>\n",
       "      <td>352</td>\n",
       "      <td>Amazon</td>\n",
       "      <td>Neutral</td>\n",
       "      <td>BBC News - Amazon boss Jeff Bezos rejects clai...</td>\n",
       "    </tr>\n",
       "    <tr>\n",
       "      <th>2</th>\n",
       "      <td>8312</td>\n",
       "      <td>Microsoft</td>\n",
       "      <td>Negative</td>\n",
       "      <td>@Microsoft Why do I pay for WORD when it funct...</td>\n",
       "    </tr>\n",
       "    <tr>\n",
       "      <th>3</th>\n",
       "      <td>4371</td>\n",
       "      <td>CS-GO</td>\n",
       "      <td>Negative</td>\n",
       "      <td>CSGO matchmaking is so full of closet hacking,...</td>\n",
       "    </tr>\n",
       "    <tr>\n",
       "      <th>4</th>\n",
       "      <td>4433</td>\n",
       "      <td>Google</td>\n",
       "      <td>Neutral</td>\n",
       "      <td>Now the President is slapping Americans in the...</td>\n",
       "    </tr>\n",
       "    <tr>\n",
       "      <th>...</th>\n",
       "      <td>...</td>\n",
       "      <td>...</td>\n",
       "      <td>...</td>\n",
       "      <td>...</td>\n",
       "    </tr>\n",
       "    <tr>\n",
       "      <th>995</th>\n",
       "      <td>4891</td>\n",
       "      <td>GrandTheftAuto(GTA)</td>\n",
       "      <td>Irrelevant</td>\n",
       "      <td>⭐️ Toronto is the arts and culture capital of ...</td>\n",
       "    </tr>\n",
       "    <tr>\n",
       "      <th>996</th>\n",
       "      <td>4359</td>\n",
       "      <td>CS-GO</td>\n",
       "      <td>Irrelevant</td>\n",
       "      <td>tHIS IS ACTUALLY A GOOD MOVE TOT BRING MORE VI...</td>\n",
       "    </tr>\n",
       "    <tr>\n",
       "      <th>997</th>\n",
       "      <td>2652</td>\n",
       "      <td>Borderlands</td>\n",
       "      <td>Positive</td>\n",
       "      <td>Today sucked so it’s time to drink wine n play...</td>\n",
       "    </tr>\n",
       "    <tr>\n",
       "      <th>998</th>\n",
       "      <td>8069</td>\n",
       "      <td>Microsoft</td>\n",
       "      <td>Positive</td>\n",
       "      <td>Bought a fraction of Microsoft today. Small wins.</td>\n",
       "    </tr>\n",
       "    <tr>\n",
       "      <th>999</th>\n",
       "      <td>6960</td>\n",
       "      <td>johnson&amp;johnson</td>\n",
       "      <td>Neutral</td>\n",
       "      <td>Johnson &amp; Johnson to stop selling talc baby po...</td>\n",
       "    </tr>\n",
       "  </tbody>\n",
       "</table>\n",
       "<p>1000 rows × 4 columns</p>\n",
       "</div>"
      ],
      "text/plain": [
       "        0                    1           2  \\\n",
       "0    3364             Facebook  Irrelevant   \n",
       "1     352               Amazon     Neutral   \n",
       "2    8312            Microsoft    Negative   \n",
       "3    4371                CS-GO    Negative   \n",
       "4    4433               Google     Neutral   \n",
       "..    ...                  ...         ...   \n",
       "995  4891  GrandTheftAuto(GTA)  Irrelevant   \n",
       "996  4359                CS-GO  Irrelevant   \n",
       "997  2652          Borderlands    Positive   \n",
       "998  8069            Microsoft    Positive   \n",
       "999  6960      johnson&johnson     Neutral   \n",
       "\n",
       "                                                     3  \n",
       "0    I mentioned on Facebook that I was struggling ...  \n",
       "1    BBC News - Amazon boss Jeff Bezos rejects clai...  \n",
       "2    @Microsoft Why do I pay for WORD when it funct...  \n",
       "3    CSGO matchmaking is so full of closet hacking,...  \n",
       "4    Now the President is slapping Americans in the...  \n",
       "..                                                 ...  \n",
       "995  ⭐️ Toronto is the arts and culture capital of ...  \n",
       "996  tHIS IS ACTUALLY A GOOD MOVE TOT BRING MORE VI...  \n",
       "997  Today sucked so it’s time to drink wine n play...  \n",
       "998  Bought a fraction of Microsoft today. Small wins.  \n",
       "999  Johnson & Johnson to stop selling talc baby po...  \n",
       "\n",
       "[1000 rows x 4 columns]"
      ]
     },
     "execution_count": 10,
     "metadata": {},
     "output_type": "execute_result"
    }
   ],
   "source": [
    "validation_data"
   ]
  },
  {
   "cell_type": "markdown",
   "id": "a72c1690",
   "metadata": {},
   "source": [
    "# Data preprocessing"
   ]
  },
  {
   "cell_type": "code",
   "execution_count": 11,
   "id": "ec14827c",
   "metadata": {},
   "outputs": [],
   "source": [
    "\n",
    "def data_preprocessing(data):\n",
    "    #Renaming columns and removing \"irrelevant\" sentiments\n",
    "    data=data.drop([0,1],axis=1)\n",
    "    data=data.rename(columns={2:'Sentiment',3:'Tweet'})\n",
    "    data.dropna(inplace=True)\n",
    "    data=data[data['Sentiment']!='Irrelevant']\n",
    "    data=data.drop_duplicates(keep = 'first')\n",
    "\n",
    "    #Converting categorical data into integer format\n",
    "    data[\"Sentiment\"] = np.array(list(map(lambda y: 2 if y==\"Positive\" \n",
    "                                            else (1 if y==\"Neutral\" else 0),data[\"Sentiment\"])))\n",
    "    #Converting to lower case\n",
    "    data['Tweet'] = [i.lower() for i in data['Tweet']]\n",
    "    \n",
    "    #removing punctuation\n",
    "    data['Tweet'] = [i.translate(str.maketrans('', '', string.punctuation)) for i in data['Tweet']]\n",
    "    \n",
    "    #removing single words\n",
    "    data['Tweet'] =  [re.sub(r\"\\b[a-zA-Z]\\b\", \"\", i) for i in data['Tweet']] \n",
    "    \n",
    "    #removing mentions and hastag symbols\n",
    "    data['Tweet'] =  [re.sub(r\"@[a-zA-Z0-9]+|\\#[a-zA-Z0-9]\",\"\",str(i)) for i in data['Tweet']] \n",
    "    \n",
    "    #removing URL\n",
    "    data['Tweet'] =  [re.sub(r'http\\S+', \"\", str(i)) for i in data['Tweet']] \n",
    "    data['Tweet'] =  [re.sub(r\"[0-9]\",\"\",i) for i in data['Tweet']] \n",
    "    stop_words = stopwords.words('english')\n",
    "    \n",
    "    def remove_stopwords(i):\n",
    "        filtered_sentence = []\n",
    "        for w in i:\n",
    "            if w not in stop_words:\n",
    "                filtered_sentence.append(w)\n",
    "        return filtered_sentence\n",
    "    def remove_emoji(i):\n",
    "        for token in i:\n",
    "            if token in EMOJI_DATA:\n",
    "                i = re.sub(r'('+token+')', \" \".join(emoji.demojize(token).replace(\",\",\"\").replace(\":\",\"\").replace(\"_\",\" \").split()), i)\n",
    "        return i\n",
    "    \n",
    "    #converting emoji to words\n",
    "    data['Tweet']= [remove_emoji(i) for i in data['Tweet']]\n",
    "    \n",
    "    #lemmatization \n",
    "    data['Tweet'] =  [lemmatize_sentence(i) for i in data['Tweet']]\n",
    "    #removing stop words\n",
    "    data['Tweet']= [remove_stopwords(i) for i in data['Tweet']]\n",
    "    data['Tweet']= [ ' '.join(w) for w in data['Tweet']]\n",
    "    return data\n",
    "    "
   ]
  },
  {
   "cell_type": "code",
   "execution_count": 12,
   "id": "49c5b544",
   "metadata": {},
   "outputs": [
    {
     "name": "stdout",
     "output_type": "stream",
     "text": [
      "       Sentiment                                              Tweet\n",
      "0              2                           im get borderland murder\n",
      "1              2                                   come border kill\n",
      "2              2                             im get borderland kill\n",
      "3              2                          im come borderland murder\n",
      "4              2                           im get borderland murder\n",
      "...          ...                                                ...\n",
      "74677          2  realize window partition mac like year behind ...\n",
      "74678          2  realize mac window partition year behind nvidi...\n",
      "74679          2  realize window partition mac year behind nvidi...\n",
      "74680          2  realize window partition mac like year behind ...\n",
      "74681          2  like window partition mac like year behind dri...\n",
      "\n",
      "[57485 rows x 2 columns]\n"
     ]
    }
   ],
   "source": [
    "train_data=data_preprocessing(train_data)\n",
    "print(train_data)"
   ]
  },
  {
   "cell_type": "code",
   "execution_count": 13,
   "id": "f60cfe57",
   "metadata": {},
   "outputs": [
    {
     "name": "stdout",
     "output_type": "stream",
     "text": [
      "     Sentiment                                              Tweet\n",
      "1            1  bbc news amazon bos jeff bezos reject claim co...\n",
      "2            0  microsoft pay word function poorly samsungus c...\n",
      "3            0  csgo matchmaking full closet hack truly awful ...\n",
      "4            1  president slap american face really commit unl...\n",
      "5            0  hi eahelp ’ madeleine mccann cellar past year ...\n",
      "..         ...                                                ...\n",
      "993          0  please explain possible let company overcharge...\n",
      "994          2  good sony much want see new p whats go right m...\n",
      "997          2  today suck ’ time drink wine play borderland s...\n",
      "998          2          bought fraction microsoft today small win\n",
      "999          1  johnson johnson stop sell talc baby powder u c...\n",
      "\n",
      "[827 rows x 2 columns]\n"
     ]
    }
   ],
   "source": [
    "validation_data=data_preprocessing(validation_data)\n",
    "print(validation_data)"
   ]
  },
  {
   "cell_type": "code",
   "execution_count": 14,
   "id": "d569611b",
   "metadata": {},
   "outputs": [
    {
     "data": {
      "text/plain": [
       "<AxesSubplot:xlabel='Sentiment', ylabel='count'>"
      ]
     },
     "execution_count": 14,
     "metadata": {},
     "output_type": "execute_result"
    },
    {
     "data": {
      "image/png": "[encoded data removed]",
      "text/plain": [
       "<Figure size 432x288 with 1 Axes>"
      ]
     },
     "metadata": {
      "needs_background": "light"
     },
     "output_type": "display_data"
    }
   ],
   "source": [
    "import seaborn as sns    \n",
    "sns.countplot(x = \"Sentiment\" , data = train_data)"
   ]
  },
  {
   "cell_type": "code",
   "execution_count": 15,
   "id": "cd8a1470",
   "metadata": {},
   "outputs": [
    {
     "data": {
      "text/plain": [
       "<AxesSubplot:xlabel='Sentiment', ylabel='count'>"
      ]
     },
     "execution_count": 15,
     "metadata": {},
     "output_type": "execute_result"
    },
    {
     "data": {
      "image/png": "[encoded data removed]",
      "text/plain": [
       "<Figure size 432x288 with 1 Axes>"
      ]
     },
     "metadata": {
      "needs_background": "light"
     },
     "output_type": "display_data"
    }
   ],
   "source": [
    "sns.countplot(x = \"Sentiment\" , data = validation_data)"
   ]
  },
  {
   "cell_type": "code",
   "execution_count": 16,
   "id": "24a54000",
   "metadata": {},
   "outputs": [],
   "source": [
    "train_data.to_csv('datasets/prepared_train.csv', encoding='utf-8', index=False)\n",
    "validation_data.to_csv('datasets/prepared_validation.csv', encoding='utf-8', index=False)"
   ]
  },
  {
   "cell_type": "code",
   "execution_count": 64,
   "id": "a8781e03",
   "metadata": {},
   "outputs": [],
   "source": [
    "from sklearn.feature_extraction.text import TfidfVectorizer\n",
    "from sklearn.ensemble import RandomForestClassifier\n",
    "from sklearn.model_selection import train_test_split\n",
    "import pandas as pd"
   ]
  },
  {
   "cell_type": "code",
   "execution_count": 67,
   "id": "a4cdf17c",
   "metadata": {},
   "outputs": [
    {
     "data": {
      "text/plain": [
       "(59966, 2)"
      ]
     },
     "execution_count": 67,
     "metadata": {},
     "output_type": "execute_result"
    }
   ],
   "source": [
    "train_data=pd.concat([train_data,validation_data])\n",
    "train_data.shape"
   ]
  },
  {
   "cell_type": "code",
   "execution_count": 74,
   "id": "441d1168",
   "metadata": {},
   "outputs": [],
   "source": [
    "tfidf= TfidfVectorizer()\n",
    "tfidf.fit(train_data['Tweet'])\n",
    "X = tfidf.transform(train_data['Tweet'])\n",
    "Y = train_data['Sentiment']"
   ]
  },
  {
   "cell_type": "code",
   "execution_count": 75,
   "id": "903f5b84",
   "metadata": {},
   "outputs": [
    {
     "name": "stdout",
     "output_type": "stream",
     "text": [
      "(44974, 29500) (44974,)\n",
      "(14992, 29500) (14992,)\n"
     ]
    }
   ],
   "source": [
    "X_train, X_validation,Y_train, Y_validation = train_test_split(X, Y, test_size=0.25, random_state = 42)\n",
    "X_train\n",
    "print(X_train.shape,Y_train.shape)\n",
    "print(X_validation.shape,Y_validation.shape)"
   ]
  },
  {
   "cell_type": "code",
   "execution_count": 77,
   "id": "408a8e5d",
   "metadata": {},
   "outputs": [
    {
     "name": "stdout",
     "output_type": "stream",
     "text": [
      "0.9279615795090715\n",
      "              precision    recall  f1-score   support\n",
      "\n",
      "           0       0.94      0.94      0.94      5525\n",
      "           1       0.92      0.91      0.92      4428\n",
      "           2       0.93      0.93      0.93      5039\n",
      "\n",
      "    accuracy                           0.93     14992\n",
      "   macro avg       0.93      0.93      0.93     14992\n",
      "weighted avg       0.93      0.93      0.93     14992\n",
      "\n"
     ]
    }
   ],
   "source": [
    "from sklearn.metrics import classification_report\n",
    "RFClassifier = RandomForestClassifier()\n",
    "RFClassifier.fit(X_train, Y_train)\n",
    "\n",
    "Y_pred=RFClassifier.predict(X_validation)\n",
    "print (accuracy_score(Y_validation,Y_pred))\n",
    "print(classification_report(Y_validation,Y_pred))"
   ]
  }
 ],
 "metadata": {
  "kernelspec": {
   "display_name": "Python 3 (ipykernel)",
   "language": "python",
   "name": "python3"
  },
  "language_info": {
   "codemirror_mode": {
    "name": "ipython",
    "version": 3
   },
   "file_extension": ".py",
   "mimetype": "text/x-python",
   "name": "python",
   "nbconvert_exporter": "python",
   "pygments_lexer": "ipython3",
   "version": "3.9.12"
  }
 },
 "nbformat": 4,
 "nbformat_minor": 5
}
